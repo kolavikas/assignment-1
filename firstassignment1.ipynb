{
 "cells": [
  {
   "cell_type": "code",
   "execution_count": 1,
   "id": "8f707c16",
   "metadata": {},
   "outputs": [
    {
     "data": {
      "text/plain": [
       "'hello'"
      ]
     },
     "execution_count": 1,
     "metadata": {},
     "output_type": "execute_result"
    }
   ],
   "source": [
    "a=\"HeLLo\"\n",
    "a.lower()\n"
   ]
  },
  {
   "cell_type": "code",
   "execution_count": 2,
   "id": "576e2172",
   "metadata": {},
   "outputs": [
    {
     "name": "stdout",
     "output_type": "stream",
     "text": [
      "H\n",
      "e\n",
      "L\n",
      "l\n",
      "O\n"
     ]
    }
   ],
   "source": [
    "a=\"HELLO\"\n",
    "k=0\n",
    "for i in range(len(a)):\n",
    "    if(i%2!=0):\n",
    "        k=a[i].lower()\n",
    "        print(k)\n",
    "    if(i%2==0):\n",
    "        k=a[i]\n",
    "        print(k)\n",
    "        "
   ]
  },
  {
   "cell_type": "code",
   "execution_count": 3,
   "id": "853021ed",
   "metadata": {},
   "outputs": [
    {
     "name": "stdout",
     "output_type": "stream",
     "text": [
      "h\n",
      "E\n",
      "l\n",
      "L\n",
      "o\n"
     ]
    }
   ],
   "source": [
    "a=\"HELLO\"\n",
    "k=0\n",
    "for i in range(len(a)):\n",
    "    if(i%2==0):\n",
    "        k=a[i].lower()\n",
    "        print(k)\n",
    "    if(i%2!=0):\n",
    "        k=a[i]\n",
    "        print(k)\n",
    "        "
   ]
  },
  {
   "cell_type": "code",
   "execution_count": 4,
   "id": "68b0e690",
   "metadata": {},
   "outputs": [
    {
     "name": "stdout",
     "output_type": "stream",
     "text": [
      "h\n",
      "E\n",
      "l\n",
      "L\n",
      "o\n"
     ]
    }
   ],
   "source": [
    "a=\"hello\"\n",
    "k=0\n",
    "for i in range(len(a)):\n",
    "    if(i%2!=0):\n",
    "        k=a[i].upper()\n",
    "        print(k)\n",
    "    if(i%2==0):\n",
    "        k=a[i]\n",
    "        print(k)\n",
    "        \n",
    "        "
   ]
  },
  {
   "cell_type": "code",
   "execution_count": 5,
   "id": "39b3e328",
   "metadata": {},
   "outputs": [
    {
     "name": "stdout",
     "output_type": "stream",
     "text": [
      "H\n",
      "e\n",
      "L\n",
      "l\n",
      "O\n"
     ]
    }
   ],
   "source": [
    "a=\"hello\"\n",
    "k=0\n",
    "for i in range(len(a)):\n",
    "    if(i%2==0):\n",
    "        k=a[i].upper()\n",
    "        print(k)\n",
    "    if(i%2!=0):\n",
    "        k=a[i]\n",
    "        print(k)\n",
    "     "
   ]
  },
  {
   "cell_type": "code",
   "execution_count": 12,
   "id": "ca3f6b93",
   "metadata": {},
   "outputs": [
    {
     "name": "stdout",
     "output_type": "stream",
     "text": [
      "my name is vikas my  age is 22 my mobile number is 7702513173 my father name is naresh my  mother name is lalitha \n"
     ]
    }
   ],
   "source": [
    "a=(\"my name is {0} \".format(\"vikas\"))\n",
    "b=(\"my  age is {0} \".format(\"22\"))\n",
    "c=(\"my mobile number is {0} \".format(\"7702513173\"))\n",
    "d=(\"my father name is {0} \".format(\"naresh\"))\n",
    "e=(\"my  mother name is {0} \".format(\"lalitha\"))\n",
    "biodata=(a+b+c+d+e)\n",
    "print(biodata)\n"
   ]
  },
  {
   "cell_type": "code",
   "execution_count": 15,
   "id": "f057235a",
   "metadata": {},
   "outputs": [
    {
     "data": {
      "text/plain": [
       "2"
      ]
     },
     "execution_count": 15,
     "metadata": {},
     "output_type": "execute_result"
    }
   ],
   "source": [
    "a='vik@s@'\n",
    "a.count('@')"
   ]
  },
  {
   "cell_type": "code",
   "execution_count": 3,
   "id": "86715e6e",
   "metadata": {},
   "outputs": [
    {
     "data": {
      "text/plain": [
       "'name1.,name2.,name#3.'"
      ]
     },
     "execution_count": 3,
     "metadata": {},
     "output_type": "execute_result"
    }
   ],
   "source": [
    "a=\"name1.@gmail.com,name2.@gmail.com,name#3.@gmail.com\"\n",
    "a.replace('@gmail.com','')"
   ]
  },
  {
   "cell_type": "code",
   "execution_count": 3,
   "id": "49f35f55",
   "metadata": {},
   "outputs": [
    {
     "name": "stdout",
     "output_type": "stream",
     "text": [
      "H\n",
      "l\n",
      "l\n",
      "b\n",
      "y\n"
     ]
    }
   ],
   "source": [
    "vowels=('a','e','i','o','u')\n",
    "a='Hellobye'\n",
    "for i in a:\n",
    "    if i not in vowels:\n",
    "        print(i)\n",
    "        \n",
    "        "
   ]
  },
  {
   "cell_type": "code",
   "execution_count": 14,
   "id": "7afdd8d2",
   "metadata": {},
   "outputs": [
    {
     "name": "stdout",
     "output_type": "stream",
     "text": [
      "enter the name:innomatics\n"
     ]
    },
    {
     "data": {
      "text/plain": [
       "2"
      ]
     },
     "execution_count": 14,
     "metadata": {},
     "output_type": "execute_result"
    }
   ],
   "source": [
    "a=\"Welcome to Innomatics .innomatics awesome,isnt it?\"\n",
    "a=a.upper()\n",
    "b=input(\"enter the name:\")\n",
    "b=b.upper()\n",
    "a.count(b)\n",
    "              "
   ]
  },
  {
   "cell_type": "code",
   "execution_count": null,
   "id": "daa270ae",
   "metadata": {},
   "outputs": [],
   "source": []
  },
  {
   "cell_type": "code",
   "execution_count": null,
   "id": "7b78d45c",
   "metadata": {},
   "outputs": [],
   "source": []
  },
  {
   "cell_type": "code",
   "execution_count": null,
   "id": "3973053a",
   "metadata": {},
   "outputs": [],
   "source": []
  }
 ],
 "metadata": {
  "kernelspec": {
   "display_name": "Python 3 (ipykernel)",
   "language": "python",
   "name": "python3"
  },
  "language_info": {
   "codemirror_mode": {
    "name": "ipython",
    "version": 3
   },
   "file_extension": ".py",
   "mimetype": "text/x-python",
   "name": "python",
   "nbconvert_exporter": "python",
   "pygments_lexer": "ipython3",
   "version": "3.9.13"
  }
 },
 "nbformat": 4,
 "nbformat_minor": 5
}
